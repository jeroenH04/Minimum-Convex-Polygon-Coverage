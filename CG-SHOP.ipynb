{
 "cells": [
  {
   "cell_type": "code",
   "execution_count": null,
   "id": "97ccdd25",
   "metadata": {},
   "outputs": [],
   "source": [
    "# Only run once\n",
    "!pip install cgshop2023-pyutils"
   ]
  },
  {
   "cell_type": "code",
   "execution_count": null,
   "id": "5490538e",
   "metadata": {},
   "outputs": [],
   "source": [
    "from cgshop2023_pyutils import InstanceDatabase\n",
    "\n",
    "idb = InstanceDatabase(\"path/to/zip/or/folder/with/instances\")\n",
    "instance = idb[\"instance_name\"]\n",
    "print(instance[\"outer_boundary\"])"
   ]
  },
  {
   "cell_type": "markdown",
   "id": "2fea5cf8",
   "metadata": {},
   "source": [
    "<h1> Problem visualisation\n",
    "    "
   ]
  }
 ],
 "metadata": {
  "kernelspec": {
   "display_name": "Python 3",
   "language": "python",
   "name": "python3"
  },
  "language_info": {
   "codemirror_mode": {
    "name": "ipython",
    "version": 3
   },
   "file_extension": ".py",
   "mimetype": "text/x-python",
   "name": "python",
   "nbconvert_exporter": "python",
   "pygments_lexer": "ipython3",
   "version": "3.8.8"
  }
 },
 "nbformat": 4,
 "nbformat_minor": 5
}
